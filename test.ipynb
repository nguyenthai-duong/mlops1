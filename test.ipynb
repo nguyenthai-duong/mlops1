{
 "cells": [
  {
   "cell_type": "code",
   "execution_count": 2,
   "metadata": {},
   "outputs": [
    {
     "name": "stdout",
     "output_type": "stream",
     "text": [
      "Current Schema:\n",
      "{'classes': [{'class': 'Document', 'invertedIndexConfig': {'bm25': {'b': 0.75, 'k1': 1.2}, 'cleanupIntervalSeconds': 60, 'stopwords': {'additions': None, 'preset': 'en', 'removals': None}}, 'multiTenancyConfig': {'autoTenantActivation': False, 'autoTenantCreation': False, 'enabled': False}, 'properties': [{'dataType': ['text'], 'indexFilterable': True, 'indexRangeFilters': False, 'indexSearchable': True, 'name': 'content', 'tokenization': 'word'}], 'replicationConfig': {'asyncEnabled': False, 'factor': 1}, 'shardingConfig': {'actualCount': 1, 'actualVirtualCount': 128, 'desiredCount': 1, 'desiredVirtualCount': 128, 'function': 'murmur3', 'key': '_id', 'strategy': 'hash', 'virtualPerPhysical': 128}, 'vectorIndexConfig': {'bq': {'enabled': False}, 'cleanupIntervalSeconds': 300, 'distance': 'cosine', 'dynamicEfFactor': 8, 'dynamicEfMax': 500, 'dynamicEfMin': 100, 'ef': -1, 'efConstruction': 128, 'flatSearchCutoff': 40000, 'maxConnections': 32, 'pq': {'bitCompression': False, 'centroids': 256, 'enabled': False, 'encoder': {'distribution': 'log-normal', 'type': 'kmeans'}, 'segments': 0, 'trainingLimit': 100000}, 'skip': False, 'sq': {'enabled': False, 'rescoreLimit': 20, 'trainingLimit': 100000}, 'vectorCacheMaxObjects': 1000000000000}, 'vectorIndexType': 'hnsw', 'vectorizer': 'none'}]}\n"
     ]
    }
   ],
   "source": [
    "import weaviate\n",
    "\n",
    "# Tạo client kết nối tới Weaviate\n",
    "client = weaviate.Client(\"http://127.0.0.1:80\")\n",
    "\n",
    "# Lấy schema hiện tại\n",
    "schema = client.schema.get()\n",
    "\n",
    "print(\"Current Schema:\")\n",
    "print(schema)\n"
   ]
  },
  {
   "cell_type": "code",
   "execution_count": 3,
   "metadata": {},
   "outputs": [
    {
     "name": "stdout",
     "output_type": "stream",
     "text": [
      "Objects in class 'AIO_Doc':\n"
     ]
    },
    {
     "ename": "TypeError",
     "evalue": "'NoneType' object is not subscriptable",
     "output_type": "error",
     "traceback": [
      "\u001b[0;31m---------------------------------------------------------------------------\u001b[0m",
      "\u001b[0;31mTypeError\u001b[0m                                 Traceback (most recent call last)",
      "Cell \u001b[0;32mIn[3], line 10\u001b[0m\n\u001b[1;32m      7\u001b[0m result \u001b[38;5;241m=\u001b[39m client\u001b[38;5;241m.\u001b[39mdata_object\u001b[38;5;241m.\u001b[39mget(class_name\u001b[38;5;241m=\u001b[39m\u001b[38;5;124m'\u001b[39m\u001b[38;5;124mAIO_Doc\u001b[39m\u001b[38;5;124m'\u001b[39m)\n\u001b[1;32m      9\u001b[0m \u001b[38;5;28mprint\u001b[39m(\u001b[38;5;124mf\u001b[39m\u001b[38;5;124m\"\u001b[39m\u001b[38;5;124mObjects in class \u001b[39m\u001b[38;5;124m'\u001b[39m\u001b[38;5;124mAIO_Doc\u001b[39m\u001b[38;5;124m'\u001b[39m\u001b[38;5;124m:\u001b[39m\u001b[38;5;124m\"\u001b[39m)\n\u001b[0;32m---> 10\u001b[0m \u001b[38;5;28;01mfor\u001b[39;00m obj \u001b[38;5;129;01min\u001b[39;00m \u001b[43mresult\u001b[49m\u001b[43m[\u001b[49m\u001b[38;5;124;43m'\u001b[39;49m\u001b[38;5;124;43mobjects\u001b[39;49m\u001b[38;5;124;43m'\u001b[39;49m\u001b[43m]\u001b[49m:\n\u001b[1;32m     11\u001b[0m     \u001b[38;5;28mprint\u001b[39m(obj)\n",
      "\u001b[0;31mTypeError\u001b[0m: 'NoneType' object is not subscriptable"
     ]
    }
   ],
   "source": [
    "import weaviate\n",
    "\n",
    "# Tạo client kết nối tới Weaviate\n",
    "client = weaviate.Client(\"http://127.0.0.1:80\")\n",
    "\n",
    "# Lấy danh sách các đối tượng trong class 'AIO_Doc'\n",
    "result = client.data_object.get(class_name='AIO_Doc')\n",
    "\n",
    "print(f\"Objects in class 'AIO_Doc':\")\n",
    "for obj in result['objects']:\n",
    "    print(obj)\n"
   ]
  },
  {
   "cell_type": "code",
   "execution_count": 5,
   "metadata": {},
   "outputs": [
    {
     "name": "stderr",
     "output_type": "stream",
     "text": [
      "/home/duong/anaconda3/envs/rag/lib/python3.9/site-packages/tqdm/auto.py:21: TqdmWarning: IProgress not found. Please update jupyter and ipywidgets. See https://ipywidgets.readthedocs.io/en/stable/user_install.html\n",
      "  from .autonotebook import tqdm as notebook_tqdm\n",
      "/home/duong/anaconda3/envs/rag/lib/python3.9/site-packages/weaviate/warnings.py:121: DeprecationWarning: Dep005: You are using weaviate-client version 3.26.6. The latest version is 4.7.1.\n",
      "            Please consider upgrading to the latest version. See https://weaviate.io/developers/weaviate/client-libraries/python for details.\n",
      "  warnings.warn(\n",
      "/home/duong/anaconda3/envs/rag/lib/python3.9/site-packages/huggingface_hub/file_download.py:1132: FutureWarning: `resume_download` is deprecated and will be removed in version 1.0.0. Downloads always resume when possible. If you want to force a new download, use `force_download=True`.\n",
      "  warnings.warn(\n"
     ]
    },
    {
     "name": "stdout",
     "output_type": "stream",
     "text": [
      "Retrieval completed successfully.\n"
     ]
    }
   ],
   "source": [
    "import weaviate\n",
    "from transformers import AutoTokenizer, AutoModel\n",
    "import torch\n",
    "import numpy as np\n",
    "\n",
    "# Kết nối đến Weaviate instance trên Kubernetes\n",
    "client = weaviate.Client(\"http://127.0.0.1:80\")\n",
    "\n",
    "# Định nghĩa model và tokenizer từ Hugging Face\n",
    "model_name = \"BAAI/bge-small-en-v1.5\"\n",
    "tokenizer = AutoTokenizer.from_pretrained(model_name)\n",
    "model = AutoModel.from_pretrained(model_name)\n",
    "\n",
    "index_name = \"AIO_Doc\"\n",
    "\n",
    "# Hàm để tạo embedding từ văn bản\n",
    "def embed_text(text):\n",
    "    inputs = tokenizer(text, return_tensors=\"pt\", truncation=True, padding=True)\n",
    "    with torch.no_grad():\n",
    "        outputs = model(**inputs)\n",
    "    embeddings = outputs.last_hidden_state.mean(dim=1).squeeze().numpy()\n",
    "    return embeddings\n",
    "\n",
    "# Tạo VectorStoreIndex nếu chưa tồn tại\n",
    "if not client.schema.exists(index_name):\n",
    "    schema = {\n",
    "        \"classes\": [\n",
    "            {\n",
    "                \"class\": index_name,\n",
    "                \"description\": \"A class representing a document with text data\",\n",
    "                \"vectorIndexType\": \"hnsw\",\n",
    "                \"vectorIndexConfig\": {\n",
    "                    \"efConstruction\": 128,\n",
    "                    \"M\": 16\n",
    "                },\n",
    "                \"properties\": [\n",
    "                    {\n",
    "                        \"name\": \"text\",\n",
    "                        \"dataType\": [\"text\"],\n",
    "                        \"description\": \"The content of the document\"\n",
    "                    },\n",
    "                    {\n",
    "                        \"name\": \"vector\",\n",
    "                        \"dataType\": [\"number[]\"],\n",
    "                        \"description\": \"The embedding vector of the document\"\n",
    "                    },\n",
    "                    {\n",
    "                        \"name\": \"metadata\",\n",
    "                        \"dataType\": [\"string\"],\n",
    "                        \"description\": \"Metadata of the document\"\n",
    "                    }\n",
    "                ]\n",
    "            }\n",
    "        ]\n",
    "    }\n",
    "    client.schema.create(schema)\n",
    "\n",
    "# Hàm để thực hiện truy vấn và trả về các đoạn văn tương đương\n",
    "def retrieve_similar_docs(question, top_k=5):\n",
    "    question_embedding = embed_text(question).tolist()\n",
    "    \n",
    "    near_vector = {\n",
    "        \"vector\": question_embedding,\n",
    "        \"certainty\": 0.7\n",
    "    }\n",
    "\n",
    "    result = client.query.get(index_name, [\"text\", \"metadata\"]) \\\n",
    "        .with_near_vector(near_vector) \\\n",
    "        .with_limit(top_k) \\\n",
    "        .do()\n",
    "    \n",
    "    return result['data']['Get'][index_name]\n",
    "\n",
    "# Thực hiện truy vấn với câu hỏi đầu vào\n",
    "question = \"mamba là gì?\"\n",
    "results = retrieve_similar_docs(question)\n",
    "\n",
    "# Hiển thị kết quả\n",
    "for i, result in enumerate(results):\n",
    "    print(f\"Result {i+1}:\")\n",
    "    print(f\"Text: {result['text']}\")\n",
    "    print(f\"Metadata: {result['metadata']}\")\n",
    "    print(\"\\n\")\n",
    "\n",
    "print(\"Retrieval completed successfully.\")\n"
   ]
  },
  {
   "cell_type": "code",
   "execution_count": 4,
   "metadata": {},
   "outputs": [
    {
     "name": "stdout",
     "output_type": "stream",
     "text": [
      "{\n",
      "  \"errors\": [\n",
      "    {\n",
      "      \"locations\": [\n",
      "        {\n",
      "          \"column\": 6,\n",
      "          \"line\": 1\n",
      "        }\n",
      "      ],\n",
      "      \"message\": \"Cannot query field \\\"JeopardyQuestion\\\" on type \\\"GetObjectsObj\\\".\",\n",
      "      \"path\": null\n",
      "    }\n",
      "  ]\n",
      "}\n"
     ]
    }
   ],
   "source": [
    "import weaviate\n",
    "import json\n",
    "\n",
    "client = weaviate.Client(\"http://127.0.0.1:80\")\n",
    "response = (\n",
    "    client.query\n",
    "    .get(\"JeopardyQuestion\", [\"question\", \"answer\"])\n",
    "    .with_hybrid(\n",
    "      query=\"food\",  # Query string\n",
    "      properties=[\"question\", \"answer\"],  # Searched properties\n",
    "      vector=None  # Manually provide a vector; if not, Weaviate will vectorize the query string\n",
    "    )\n",
    "    .with_additional([\"score\", \"explainScore\"])  # Include score & explainScore in the response\n",
    "    .with_limit(3)\n",
    "    .do()\n",
    "  )\n",
    "\n",
    "\n",
    "print(json.dumps(response, indent=2))"
   ]
  },
  {
   "cell_type": "code",
   "execution_count": null,
   "metadata": {},
   "outputs": [],
   "source": [
    "git config --global user.email \"nthaiduong83@gmail.com\"\n",
    "git config --global user.name \"ntduong\""
   ]
  }
 ],
 "metadata": {
  "kernelspec": {
   "display_name": "rag",
   "language": "python",
   "name": "python3"
  },
  "language_info": {
   "codemirror_mode": {
    "name": "ipython",
    "version": 3
   },
   "file_extension": ".py",
   "mimetype": "text/x-python",
   "name": "python",
   "nbconvert_exporter": "python",
   "pygments_lexer": "ipython3",
   "version": "3.9.19"
  }
 },
 "nbformat": 4,
 "nbformat_minor": 2
}
