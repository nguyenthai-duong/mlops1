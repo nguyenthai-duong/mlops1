{
 "cells": [
  {
   "cell_type": "code",
   "execution_count": 1,
   "metadata": {},
   "outputs": [
    {
     "name": "stdout",
     "output_type": "stream",
     "text": [
      "Đã tạo file requirements.txt với các thư viện cần thiết.\n"
     ]
    }
   ],
   "source": [
    "import subprocess\n",
    "\n",
    "# Chạy pip freeze để lấy tất cả các gói và phiên bản hiện tại\n",
    "installed_packages = subprocess.check_output(['pip', 'freeze']).decode('utf-8').splitlines()\n",
    "\n",
    "# Lọc các thư viện cần thiết\n",
    "libraries = []\n",
    "\n",
    "# Ghi các thư viện này vào file requirements.txt\n",
    "with open('requirements.txt', 'w') as f:\n",
    "    for package in installed_packages:\n",
    "        if any(lib in package for lib in libraries):\n",
    "            f.write(f\"{package}\\n\")\n",
    "\n",
    "print(\"Đã tạo file requirements.txt với các thư viện cần thiết.\")\n"
   ]
  },
  {
   "cell_type": "markdown",
   "metadata": {},
   "source": [
    "sudo docker run --rm --runtime=nvidia --gpus all -d -p 8006:8000 llm\n",
    "minikube start --driver=docker --addons=nvidia-gpu-device-plugin\n"
   ]
  },
  {
   "cell_type": "code",
   "execution_count": null,
   "metadata": {},
   "outputs": [],
   "source": [
    "awk '/self.max_model_len = _get_and_verify_max_len\\(/{print; found=1; next} found && /\\)/{print; print \"        self.max_model_len = 28000\"; found=0; next}1' /home/duong/anaconda3/envs/vllm/lib/python3.9/site-packages/vllm/config.py > /home/duong/anaconda3/envs/vllm/lib/python3.9/site-packages/vllm/config.tmp && mv /home/duong/anaconda3/envs/vllm/lib/python3.9/site-packages/vllm/config.tmp /home/duong/anaconda3/envs/vllm/lib/python3.9/site-packages/vllm/config.py\n"
   ]
  }
 ],
 "metadata": {
  "kernelspec": {
   "display_name": "rag",
   "language": "python",
   "name": "python3"
  },
  "language_info": {
   "codemirror_mode": {
    "name": "ipython",
    "version": 3
   },
   "file_extension": ".py",
   "mimetype": "text/x-python",
   "name": "python",
   "nbconvert_exporter": "python",
   "pygments_lexer": "ipython3",
   "version": "3.9.19"
  }
 },
 "nbformat": 4,
 "nbformat_minor": 2
}
