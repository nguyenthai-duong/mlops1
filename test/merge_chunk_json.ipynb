{
  "cells": [
    {
      "cell_type": "code",
      "execution_count": null,
      "metadata": {
        "id": "pfq8CcPc47Hv"
      },
      "outputs": [],
      "source": [
        "import os\n",
        "import json"
      ]
    },
    {
      "cell_type": "code",
      "execution_count": null,
      "metadata": {
        "id": "445SwkIW47Hw"
      },
      "outputs": [],
      "source": [
        "def merge_json_files(directory, output_file):\n",
        "    merged_data = []\n",
        "    for filename in os.listdir(directory):\n",
        "        if filename.endswith(\".json\"):\n",
        "            with open(os.path.join(directory, filename), \"r\", encoding='utf-8') as file:\n",
        "                data = json.load(file)\n",
        "                merged_data.extend(data)\n",
        "\n",
        "    with open(output_file, \"w\", encoding='utf-8') as outfile:\n",
        "        json.dump(merged_data, outfile, ensure_ascii=False, indent=4)"
      ]
    },
    {
      "cell_type": "code",
      "execution_count": null,
      "metadata": {
        "id": "zL3IRcPz47Hw"
      },
      "outputs": [],
      "source": [
        "input_directory = \"B:/DATN/data/json/final_chunk/chunk_1024\"\n",
        "output_file = \"B:/DATN/data/json/final_chunk/merged_data_chunk_1024.json\"\n",
        "merge_json_files(input_directory, output_file)"
      ]
    }
  ],
  "metadata": {
    "kernelspec": {
      "display_name": "minhnq",
      "language": "python",
      "name": "python3"
    },
    "language_info": {
      "codemirror_mode": {
        "name": "ipython",
        "version": 3
      },
      "file_extension": ".py",
      "mimetype": "text/x-python",
      "name": "python",
      "nbconvert_exporter": "python",
      "pygments_lexer": "ipython3",
      "version": "3.11.2"
    },
    "colab": {
      "provenance": []
    }
  },
  "nbformat": 4,
  "nbformat_minor": 0
}